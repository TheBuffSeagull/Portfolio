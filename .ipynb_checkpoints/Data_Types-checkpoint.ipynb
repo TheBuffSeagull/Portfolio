{
 "cells": [
  {
   "cell_type": "markdown",
   "metadata": {},
   "source": [
    "# Python Data Types and Type Conversion"
   ]
  },
  {
   "cell_type": "markdown",
   "metadata": {},
   "source": [
    "Python has 3 different data types:\n",
    "1. Text Type:\tstr\n",
    "2. Numeric Types:\tint, float, complex\n",
    "3. Sequence Types:\tlist, tuple, range\n",
    "4. Mapping Type:\tdict\n",
    "5. Set Types:\tset, frozenset\n",
    "6. Boolean Type:\tbool\n",
    "7. Binary Types:\tbytes, bytearray, memoryview\n",
    "8. None Type:\tNoneType"
   ]
  }
 ],
 "metadata": {
  "kernelspec": {
   "display_name": "Python 3 (ipykernel)",
   "language": "python",
   "name": "python3"
  },
  "language_info": {
   "codemirror_mode": {
    "name": "ipython",
    "version": 3
   },
   "file_extension": ".py",
   "mimetype": "text/x-python",
   "name": "python",
   "nbconvert_exporter": "python",
   "pygments_lexer": "ipython3",
   "version": "3.10.4"
  },
  "vscode": {
   "interpreter": {
    "hash": "3785a6bba5f1801a86945c73424b4f1b6385e5f47f9ef3b4f4127c4e549a9af5"
   }
  }
 },
 "nbformat": 4,
 "nbformat_minor": 2
}
