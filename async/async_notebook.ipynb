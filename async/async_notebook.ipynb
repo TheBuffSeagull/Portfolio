{
 "cells": [
  {
   "cell_type": "markdown",
   "metadata": {},
   "source": [
    "## What I learned about async and asyncio\n",
    "I wanted to learn another method besides **mutiprocessing** to do many things at the same time. This isn't to say that async is able to do two things at once. Instead, the program can choose to pass over anything that takes a long time. \n",
    "\n",
    "A great example of this is 2 factor authentication. When you get sent a text to prove who you are the company who sent you the text starts up a \"async\" task or asyncronious task. This task is simply just waiting for the confirmation that you entered the correct numbers and then it lets you into your account. \n",
    "\n",
    "Up until the point where a computer program needs to do something it would be extremely wasteful to have a computer sit there waiting while not doing anything else. This is why we invented __[couroutines](https://en.wikipedia.org/wiki/Coroutine#:~:text=Coroutines%20are%20computer%20program%20components,iterators%2C%20infinite%20lists%20and%20pipes.)__.\n",
    "\n",
    "To quote:\n",
    "> _Coroutines are computer program components that generalize subroutines for non-preemptive multitasking, by allowing execution to be suspended and resumed. Coroutines are well-suited for implementing familiar program components such as cooperative tasks, exceptions, event loops, iterators, infinite lists and pipes._\n",
    "\n",
    "I'm going to write an example program where we simulate a 2FA system waiting for people to enter their private code. I'm not going to create the actual texting/emailing system for that in this write up as those topics deserve their own. \n",
    "\n",
    "Here are our imports:"
   ]
  },
  {
   "cell_type": "code",
   "execution_count": 1,
   "metadata": {
    "scrolled": true
   },
   "outputs": [],
   "source": [
    "import asyncio\n",
    "import random\n",
    "import time"
   ]
  },
  {
   "cell_type": "markdown",
   "metadata": {},
   "source": [
    "- __[asyncio](https://docs.python.org/3/library/asyncio.html)__\n",
    " -  asyncio is a library to write concurrent code using the async/await syntax \n",
    "- __[random](https://docs.python.org/3/library/random.html?highlight=random#module-random)__\n",
    " -  This module implements pseudo-random number generators for various distributions.\n",
    "- __[time](https://docs.python.org/3/library/asyncio.html)__\n",
    " -  This module provides various time-related functions.\n"
   ]
  },
  {
   "cell_type": "markdown",
   "metadata": {},
   "source": [
    "### Now we need to define a function that takes time for it to complete just like what the user will be doing for us.This is the function we will use to pretend like we are waiting for users below:"
   ]
  },
  {
   "cell_type": "code",
   "execution_count": null,
   "metadata": {},
   "outputs": [],
   "source": [
    "async def simulate_auth_wait_time():\n",
    "    print(\"waiting for user to enter auth code...\")\n",
    "    # This is where the random module is used\n",
    "    # We are basically saying wait a random amount of time between 5 to 15 seconds\n",
    "    wait_time = random.randrange(5, 15) # assigning a wait time to a random int between 5 - 15 (ex : 7)\n",
    "    await asyncio.sleep(wait_time) # wait for that time\n",
    "    return wait_time # This return's the amount of time waited"
   ]
  },
  {
   "cell_type": "markdown",
   "metadata": {},
   "source": [
    "### Now we need to define a function that takes time for it to complete just like what the user will be doing for us.This is the function we will use to pretend like we are waiting for users below:"
   ]
  },
  {
   "cell_type": "code",
   "execution_count": 43,
   "metadata": {},
   "outputs": [],
   "source": [
    "async def main():\n",
    "    #starts a timer using time module\n",
    "    start_time = time.time()\n",
    "    # We are using a list comprehension here to make 20 auth_wait_time instances\n",
    "    tasks = [asyncio.create_task(simulate_auth_wait_time()) for i in range(0,6)]\n",
    "    # Gathering the results (this means we are waiting for them all to finish before continuing)\n",
    "    wait_times = await asyncio.gather(*tasks)\n",
    "    # for waited time in each task\n",
    "    for waited in wait_times:\n",
    "        print(f\"Finished Task after **{waited}** seconds\")\n",
    "    \n",
    "    print(f\"This should normally take {sum(wait_times)} seconds to complete but\"+\n",
    "        f\" we are doing this asynchronous so it actually took\\n\"+\n",
    "        \" --- %s seconds ---\" % (time.time() - start_time)) #figuring out how long the program took"
   ]
  },
  {
   "cell_type": "markdown",
   "metadata": {},
   "source": []
  },
  {
   "cell_type": "code",
   "execution_count": 44,
   "metadata": {},
   "outputs": [
    {
     "name": "stdout",
     "output_type": "stream",
     "text": [
      "waiting for user to enter auth code...\n",
      "waiting for user to enter auth code...\n",
      "waiting for user to enter auth code...\n",
      "waiting for user to enter auth code...\n",
      "waiting for user to enter auth code...\n",
      "waiting for user to enter auth code...\n",
      "Finished Task after **6** seconds\n",
      "Finished Task after **8** seconds\n",
      "Finished Task after **7** seconds\n",
      "Finished Task after **8** seconds\n",
      "Finished Task after **13** seconds\n",
      "Finished Task after **6** seconds\n",
      "This should normally take 48 seconds to complete but we are doing this asynchronous so it actually took\n",
      " --- 13.003952980041504 seconds ---\n"
     ]
    }
   ],
   "source": [
    "if __name__ == '__main__':\n",
    "    await main()\n"
   ]
  },
  {
   "cell_type": "code",
   "execution_count": null,
   "metadata": {},
   "outputs": [],
   "source": []
  },
  {
   "cell_type": "code",
   "execution_count": null,
   "metadata": {},
   "outputs": [],
   "source": []
  }
 ],
 "metadata": {
  "kernelspec": {
   "display_name": "Python 3 (ipykernel)",
   "language": "python",
   "name": "python3"
  },
  "language_info": {
   "codemirror_mode": {
    "name": "ipython",
    "version": 3
   },
   "file_extension": ".py",
   "mimetype": "text/x-python",
   "name": "python",
   "nbconvert_exporter": "python",
   "pygments_lexer": "ipython3",
   "version": "3.10.4"
  },
  "vscode": {
   "interpreter": {
    "hash": "3785a6bba5f1801a86945c73424b4f1b6385e5f47f9ef3b4f4127c4e549a9af5"
   }
  }
 },
 "nbformat": 4,
 "nbformat_minor": 2
}
