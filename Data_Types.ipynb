{
 "cells": [
  {
   "cell_type": "markdown",
   "metadata": {},
   "source": [
    "# Python Data Types and Type Conversion"
   ]
  },
  {
   "cell_type": "markdown",
   "metadata": {},
   "source": [
    "Python has 15 different data types:\n",
    "- Text Type:\t\n",
    "    - str\n",
    "- Numeric Types:\t\n",
    "    - int, float, complex\n",
    "- Sequence Types:\t\n",
    "    - list, tuple, range\n",
    "- Mapping Type:\t\n",
    "    - dict\n",
    "- Set Types:\t\n",
    "    - set, frozenset\n",
    "- Boolean Type:\t\n",
    "    - bool\n",
    "- Binary Types:\t\n",
    "    - bytes, bytearray, memoryview\n",
    "- None Type:\t\n",
    "    - NoneType\n",
    "    \n",
    "### You can get the data type of any object by using the **type()** function:\n",
    "\n",
    "Also just to note \"type\" is the function being called and the **()** creates a new instance of that function. This is also the reason you put the data type your trying to understand inside the brackets. EX: type(\"Hello World\") would return \"str\". \n",
    "\n",
    "I'll put a couple examples of this below:"
   ]
  },
  {
   "cell_type": "code",
   "execution_count": 1,
   "metadata": {},
   "outputs": [
    {
     "data": {
      "text/plain": [
       "str"
      ]
     },
     "execution_count": 1,
     "metadata": {},
     "output_type": "execute_result"
    }
   ],
   "source": [
    "type(\"Hello World\")"
   ]
  },
  {
   "cell_type": "code",
   "execution_count": 2,
   "metadata": {},
   "outputs": [
    {
     "data": {
      "text/plain": [
       "int"
      ]
     },
     "execution_count": 2,
     "metadata": {},
     "output_type": "execute_result"
    }
   ],
   "source": [
    "type(20)"
   ]
  },
  {
   "cell_type": "code",
   "execution_count": 3,
   "metadata": {},
   "outputs": [
    {
     "data": {
      "text/plain": [
       "float"
      ]
     },
     "execution_count": 3,
     "metadata": {},
     "output_type": "execute_result"
    }
   ],
   "source": [
    "type(20.5)"
   ]
  },
  {
   "cell_type": "code",
   "execution_count": 4,
   "metadata": {},
   "outputs": [
    {
     "data": {
      "text/plain": [
       "complex"
      ]
     },
     "execution_count": 4,
     "metadata": {},
     "output_type": "execute_result"
    }
   ],
   "source": [
    "type(1j) #Don't worry to much about complex types"
   ]
  },
  {
   "cell_type": "code",
   "execution_count": 5,
   "metadata": {},
   "outputs": [
    {
     "data": {
      "text/plain": [
       "list"
      ]
     },
     "execution_count": 5,
     "metadata": {},
     "output_type": "execute_result"
    }
   ],
   "source": [
    "type([1, 2, 3])"
   ]
  },
  {
   "cell_type": "code",
   "execution_count": 6,
   "metadata": {},
   "outputs": [
    {
     "data": {
      "text/plain": [
       "tuple"
      ]
     },
     "execution_count": 6,
     "metadata": {},
     "output_type": "execute_result"
    }
   ],
   "source": [
    "type((1,2,3)) #The big difference here is the brackets used to declare the object"
   ]
  },
  {
   "cell_type": "code",
   "execution_count": 7,
   "metadata": {},
   "outputs": [
    {
     "data": {
      "text/plain": [
       "range"
      ]
     },
     "execution_count": 7,
     "metadata": {},
     "output_type": "execute_result"
    }
   ],
   "source": [
    "type(range(6)) #Python has a built in type for range"
   ]
  },
  {
   "cell_type": "code",
   "execution_count": 8,
   "metadata": {},
   "outputs": [
    {
     "data": {
      "text/plain": [
       "dict"
      ]
     },
     "execution_count": 8,
     "metadata": {},
     "output_type": "execute_result"
    }
   ],
   "source": [
    "type({\"Name\": \"Trevor\"}) # Dictionaries can be extremely helpful as they have KEY:VALUE relationships"
   ]
  },
  {
   "cell_type": "code",
   "execution_count": 10,
   "metadata": {},
   "outputs": [
    {
     "data": {
      "text/plain": [
       "set"
      ]
     },
     "execution_count": 10,
     "metadata": {},
     "output_type": "execute_result"
    }
   ],
   "source": [
    "type({1, 2, 3}) \n",
    "# Notice here the same brackets are used as you would for a dictionary \\\n",
    "# You use the same brackets you would for dictionaries but without key:value pairings \\\n",
    "# When in doubt just call dict() or set() the same way you would type over the data."
   ]
  },
  {
   "cell_type": "code",
   "execution_count": 13,
   "metadata": {},
   "outputs": [
    {
     "data": {
      "text/plain": [
       "frozenset"
      ]
     },
     "execution_count": 13,
     "metadata": {},
     "output_type": "execute_result"
    }
   ],
   "source": [
    "type(frozenset({1, 2, 3})) \n",
    "# Frozen sets are immutable sets and the definition of an immutable object is \\\n",
    "# \"unchanging over time or unable to be changed.\""
   ]
  },
  {
   "cell_type": "code",
   "execution_count": 14,
   "metadata": {},
   "outputs": [
    {
     "data": {
      "text/plain": [
       "bool"
      ]
     },
     "execution_count": 14,
     "metadata": {},
     "output_type": "execute_result"
    }
   ],
   "source": [
    "type(True) # A binary variable in that it defines a True or False position"
   ]
  },
  {
   "cell_type": "code",
   "execution_count": 15,
   "metadata": {},
   "outputs": [
    {
     "data": {
      "text/plain": [
       "bytes"
      ]
     },
     "execution_count": 15,
     "metadata": {},
     "output_type": "execute_result"
    }
   ],
   "source": [
    "type(b'Hello') #I'm gonna just put  the defintion of this one alone as describing it in my own words would be hard to do.\n",
    "\n",
    "# Return a new \"bytes\" object, which is an immutable sequence of small integers \\\n",
    "# in the range 0 <= x < 256, print as ASCII characters when displayed. bytes is an immutable version of bytearray \\\n",
    "# – it has the same non-mutating methods and the same indexing and slicing behavior."
   ]
  },
  {
   "cell_type": "code",
   "execution_count": 17,
   "metadata": {},
   "outputs": [
    {
     "data": {
      "text/plain": [
       "bytearray"
      ]
     },
     "execution_count": 17,
     "metadata": {},
     "output_type": "execute_result"
    }
   ],
   "source": [
    "type(bytearray(1)) # Same with this one I'm going to get the direct definition\n",
    "\n",
    "# Return a new array of bytes. The bytearray type is a mutable sequence of integers \\\n",
    "# in the range 0 <= x < 256. It has most of the usual methods of mutable sequences, \\\n",
    "# described in Mutable Sequence Types, as well as most methods that the bytes type has, see Bytes and Byte Array Methods."
   ]
  },
  {
   "cell_type": "code",
   "execution_count": 20,
   "metadata": {},
   "outputs": [
    {
     "data": {
      "text/plain": [
       "memoryview"
      ]
     },
     "execution_count": 20,
     "metadata": {},
     "output_type": "execute_result"
    }
   ],
   "source": [
    "type(memoryview(bytes(1))) # Another one where the definition is better on its own\n",
    "\n",
    "# Memoryview objects allow Python code to access the internal data of an object that \\\n",
    "# supports the buffer protocol without copying. The memoryview() function allows direct read and write \\\n",
    "# access to an object’s byte-oriented data without needing to copy it first \\\n",
    "# that can yield large performance gains when operating on large objects since it doesn’t create a copy when slicing."
   ]
  },
  {
   "cell_type": "code",
   "execution_count": 21,
   "metadata": {},
   "outputs": [
    {
     "data": {
      "text/plain": [
       "NoneType"
      ]
     },
     "execution_count": 21,
     "metadata": {},
     "output_type": "execute_result"
    }
   ],
   "source": [
    "type(None) # None is the same as \"Null\" which means nothing"
   ]
  },
  {
   "cell_type": "markdown",
   "metadata": {},
   "source": [
    "## You can also make the type in the code:\n",
    "I'm gonna also condense this one a bit"
   ]
  },
  {
   "cell_type": "code",
   "execution_count": 33,
   "metadata": {},
   "outputs": [
    {
     "name": "stdout",
     "output_type": "stream",
     "text": [
      "Hello World\n",
      "<class 'str'>\n",
      "\n",
      "\n",
      "20\n",
      "<class 'int'>\n",
      "\n",
      "\n",
      "20.5\n",
      "<class 'float'>\n",
      "\n",
      "\n",
      "1j\n",
      "<class 'complex'>\n",
      "\n",
      "\n",
      "[1, 2, 3]\n",
      "<class 'list'>\n",
      "\n",
      "\n",
      "(1, 2, 3)\n",
      "<class 'tuple'>\n",
      "\n",
      "\n",
      "range(0, 6)\n",
      "<class 'range'>\n",
      "\n",
      "\n",
      "{'name': 'Trevor', 'age': 36}\n",
      "<class 'dict'>\n",
      "\n",
      "\n",
      "{'cherry', 'apple', 'banana'}\n",
      "<class 'set'>\n",
      "\n",
      "\n",
      "frozenset({'cherry', 'apple', 'banana'})\n",
      "<class 'frozenset'>\n",
      "\n",
      "\n",
      "True\n",
      "<class 'bool'>\n",
      "\n",
      "\n",
      "b'\\x00\\x00\\x00\\x00\\x00'\n",
      "<class 'bytes'>\n",
      "\n",
      "\n",
      "bytearray(b'\\x00\\x00\\x00\\x00\\x00')\n",
      "<class 'bytearray'>\n",
      "\n",
      "\n",
      "<memory at 0x000002A5CD7BC1C0>\n",
      "<class 'memoryview'>\n",
      "\n",
      "\n"
     ]
    }
   ],
   "source": [
    "type_list = \\\n",
    "[   \n",
    "    str(\"Hello World\"),\n",
    "    int(20),\n",
    "    float(20.5),\n",
    "    complex(1j),\n",
    "    list((1,2,3)),\n",
    "    tuple((1,2,3)),\n",
    "    range(6),\n",
    "    dict(name = 'Trevor', age = 36),\n",
    "    set((\"apple\", \"banana\", \"cherry\")),\n",
    "    frozenset((\"apple\", \"banana\", \"cherry\")),\n",
    "    bool(5),\n",
    "    bytes(5),\n",
    "    bytearray(5),\n",
    "    memoryview(bytes(5))\n",
    "]\n",
    "\n",
    "for object in type_list:\n",
    "    print(f\"{object}\") # printing data\n",
    "    print(type(object)) # printing type\n",
    "    print('\\n') # putting lines in between"
   ]
  },
  {
   "cell_type": "code",
   "execution_count": null,
   "metadata": {},
   "outputs": [],
   "source": []
  }
 ],
 "metadata": {
  "kernelspec": {
   "display_name": "Python 3 (ipykernel)",
   "language": "python",
   "name": "python3"
  },
  "language_info": {
   "codemirror_mode": {
    "name": "ipython",
    "version": 3
   },
   "file_extension": ".py",
   "mimetype": "text/x-python",
   "name": "python",
   "nbconvert_exporter": "python",
   "pygments_lexer": "ipython3",
   "version": "3.10.4"
  },
  "vscode": {
   "interpreter": {
    "hash": "3785a6bba5f1801a86945c73424b4f1b6385e5f47f9ef3b4f4127c4e549a9af5"
   }
  }
 },
 "nbformat": 4,
 "nbformat_minor": 2
}
