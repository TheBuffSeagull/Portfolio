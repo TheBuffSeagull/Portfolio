{
 "cells": [
  {
   "cell_type": "markdown",
   "metadata": {},
   "source": [
    "# What I learned about async and asyncio\n",
    "I wanted to learn another method besides **multiprocessing** to do many things at the same time. This isn't to say that async is able to do two things at once. Instead, the program can choose to pass over anything that takes a long time. \n",
    "\n",
    "A great example of this is 2-factor authentication(2FA). When you get sent a text to prove who you are, the company who sent you the text starts up an \"async\" task or asyncronious task. This task is simply just waiting for the confirmation that you entered the correct numbers and then it lets you into your account. \n",
    "\n",
    "Up until the point where a computer program needs to do something, it would be extremely wasteful to have a computer sit waiting while not doing anything else. This is why we invented __[coroutines](https://en.wikipedia.org/wiki/Coroutine#:~:text=Coroutines%20are%20computer%20program%20components,iterators%2C%20infinite%20lists%20and%20pipes.)__.\n",
    "\n",
    "To quote:\n",
    "> _Coroutines are computer program components that generalize subroutines for non-preemptive multitasking, by allowing execution to be suspended and resumed. Coroutines are well-suited for implementing familiar program components such as cooperative tasks, exceptions, event loops, iterators, infinite lists and pipes._\n",
    "\n",
    "I'm going to write an example program where we simulate a 2FA system waiting for people to enter their private code. I'm not going to create the actual texting/emailing system for that in this write-up as those topics deserve their own Jupyter notebook. \n",
    "<br>\n",
    "<br>\n",
    "\n",
    "### Write-up Conclusion:\n",
    "If you have code in your program that is just waiting for a result async is one of the best solutions you can find. \n",
    "<br>\n",
    "<br>\n"
   ]
  },
  {
   "cell_type": "markdown",
   "metadata": {},
   "source": [
    "## Example Program:\n",
    "Here are our imports:"
   ]
  },
  {
   "cell_type": "code",
   "execution_count": 10,
   "metadata": {
    "scrolled": true
   },
   "outputs": [],
   "source": [
    "import asyncio\n",
    "import random\n",
    "import time"
   ]
  },
  {
   "cell_type": "markdown",
   "metadata": {},
   "source": [
    "__[asyncio](https://docs.python.org/3/library/asyncio.html)__\n",
    "-  asyncio is a library to write concurrent code using the async/await syntax \n",
    "\n",
    "__[random](https://docs.python.org/3/library/random.html?highlight=random#module-random)__\n",
    "\n",
    "-  This module implements pseudo-random number generators\n",
    "\n",
    "__[time](https://docs.python.org/3/library/asyncio.html)__\n",
    "-  This module provides various time-related functions.\n"
   ]
  },
  {
   "cell_type": "markdown",
   "metadata": {},
   "source": [
    "### The async function were going to use to simulate waiting for a user\n",
    "Now we need to define a function that takes time for it to complete just like what the user will be doing for us. This is the function we will use to pretend like we are waiting for users below.\n",
    "\n",
    "Each time the function is called it:\n",
    "1. **Prints to console** so we can see it started\n",
    "2. Assign's a random wait time between **5 and 15 seconds**\n",
    "3. **Waits** that time\n",
    "4. **Return's** the time that was waited so we can measure how long it was"
   ]
  },
  {
   "cell_type": "code",
   "execution_count": 11,
   "metadata": {},
   "outputs": [],
   "source": [
    "async def simulate_auth_wait_time():\n",
    "    '''We are basically waiting a random amount of time between 5 to 15 seconds and returning that \n",
    "    amount as an integer'''\n",
    "    # 1. output\n",
    "    print(\"waiting for user to enter auth code...\")\n",
    "    # 2. Assigning a wait time to a random int between 5 - 15 (ex : 7)\n",
    "    wait_time = random.randrange(5, 15)\n",
    "    # 3. wait for that time\n",
    "    await asyncio.sleep(wait_time)\n",
    "    # 4. return the wait time to the main function's wait_time list\n",
    "    return wait_time"
   ]
  },
  {
   "cell_type": "markdown",
   "metadata": {},
   "source": [
    "### Some quick notes about the function above:\n",
    "\n",
    "- You may of noticed it started with **async**. Async functions are only capable of working with other async functions.\n",
    "- Whenever you use an async function, you have to **await** them. It basically calls their api to start the task and wait for its completion.\n",
    "- This is a very basic wait function that doesn't account for people not entering their codes at all. Normally, in circumstances where a user doesn't reply, the async event will raise a **timeout** error. I usually just use the exception itself to let the user know they ran out of time. This can be done through proper __[exception handling](https://docs.python.org/3/tutorial/errors.html)__."
   ]
  },
  {
   "cell_type": "markdown",
   "metadata": {},
   "source": [
    "## The main event loop:\n",
    "The function below does 4 things every time it's called:\n",
    "1. Captures a **start time** in a variable\n",
    "2. Uses a list comprehension to make **5 async tasks**\n",
    "    - These tasks are us **waiting** for a user response from an **email/text**\n",
    "3. Gathers the individual wait times of the tasks in a list called **wait_times**\n",
    "4. Prints the data in a readable format."
   ]
  },
  {
   "cell_type": "code",
   "execution_count": 12,
   "metadata": {},
   "outputs": [],
   "source": [
    "async def main():\n",
    "    # 1. Starts a timer using time module\n",
    "    start_time = time.time()\n",
    "    # 2. We are using a list comprehension here to make 20 auth_wait_time instances\n",
    "    tasks = [asyncio.create_task(simulate_auth_wait_time()) for i in range(0,10)] #change the 5 to add tasks\n",
    "    # 3. Gathering the results (this means we are waiting for them all to finish before continuing)\n",
    "    wait_times = await asyncio.gather(*tasks)\n",
    "    \n",
    "    print('\\n') # new line for space between waiting and finished tasks\n",
    "    \n",
    "    # 4. for waited time in each task\n",
    "    for t in wait_times:\n",
    "        print(f\"Finished Task after **{t}** seconds\")\n",
    "        \n",
    "    print(f\"\\n\\nThis should normally take {sum(wait_times)} seconds to complete but\"+\n",
    "        f\" we are doing this asynchronous so it actually took\\n\"+\n",
    "        \" --- TOTAL PROGRAM TIME: %s seconds ---\" % (time.time() - start_time)) #figuring out how long the program took\n",
    "\n",
    "    # Chart stuff (going to add a notebook for this some time soon)\n",
    "    import numpy as np\n",
    "    import matplotlib.pyplot as plt\n",
    "    x = [i+1 for i in range(len(wait_times))]\n",
    "    y = [i for i in wait_times]\n",
    "    plt.bar(x, y)\n",
    "    plt.xlabel(\"Tasks\")\n",
    "    plt.ylabel(\"Seconds\")\n",
    "    plt.xticks(np.arange(min(x), max(x)+1, 1.0))\n",
    "    plt.yticks(np.arange(0, max(y)+1, 1.0))\n",
    "    plt.show()"
   ]
  },
  {
   "cell_type": "markdown",
   "metadata": {},
   "source": [
    "## Entry Point:\n",
    "It's always good to use the **if \\_\\_name\\_\\_ == '\\_\\_main\\_\\_':** format to let the reader know that this python file is supposed to be run and is not a supporting module. \n",
    "\n",
    "Normally, instead of writing **await main()** I would have used **asyncio.run(main())** but Jupyter Notebooks are already an async based system. So I don't need to call run in this circumstance and instead can just use the standard **await** to start the main function.\n"
   ]
  },
  {
   "cell_type": "code",
   "execution_count": 13,
   "metadata": {},
   "outputs": [
    {
     "name": "stdout",
     "output_type": "stream",
     "text": [
      "waiting for user to enter auth code...\n",
      "waiting for user to enter auth code...\n",
      "waiting for user to enter auth code...\n",
      "waiting for user to enter auth code...\n",
      "waiting for user to enter auth code...\n",
      "waiting for user to enter auth code...\n",
      "waiting for user to enter auth code...\n",
      "waiting for user to enter auth code...\n",
      "waiting for user to enter auth code...\n",
      "waiting for user to enter auth code...\n",
      "\n",
      "\n",
      "Finished Task after **8** seconds\n",
      "Finished Task after **11** seconds\n",
      "Finished Task after **12** seconds\n",
      "Finished Task after **13** seconds\n",
      "Finished Task after **9** seconds\n",
      "Finished Task after **10** seconds\n",
      "Finished Task after **6** seconds\n",
      "Finished Task after **13** seconds\n",
      "Finished Task after **10** seconds\n",
      "Finished Task after **14** seconds\n",
      "\n",
      "\n",
      "This should normally take 106 seconds to complete but we are doing this asynchronous so it actually took\n",
      " --- TOTAL PROGRAM TIME: 14.009181261062622 seconds ---\n"
     ]
    },
    {
     "data": {
      "image/png": "[encoded data removed]",
      "text/plain": [
       "<Figure size 432x288 with 1 Axes>"
      ]
     },
     "metadata": {
      "needs_background": "light"
     },
     "output_type": "display_data"
    }
   ],
   "source": [
    "if __name__ == '__main__':\n",
    "    await main()"
   ]
  },
  {
   "cell_type": "markdown",
   "metadata": {},
   "source": [
    "## This is the output of the program:\n",
    "1. You can see that the program started 5 tasks where we pretend to wait for users to input their auth code.\n",
    "<br>\n",
    "\n",
    "2. Then after **all** the tasks are complete, we gather them and display how long each one took to finish.\n",
    "<br>\n",
    "3. The last thing is showing how long the program would actually take to complete.\n",
    "\n",
    "<br>\n",
    "\n",
    "You could of launched 10,000 tasks and it still would of only taken around 15 seconds. I only used 5 in this example for read-ability. I  actually did this for giggles and with 10,000 tasks it would of taken **95,108 seconds** but instead was still **14.28 seconds**.\n",
    "\n",
    "<br>\n",
    "Feel free to change numbers however you want and try out different things in this notebook.\n",
    "<br>\n",
    "<br>\n",
    "<br>\n",
    "\n",
    "### So what should be taken from this?\n",
    "If you have code in your program that is just waiting for a result async is one of the best solutions you can find. "
   ]
  }
 ],
 "metadata": {
  "kernelspec": {
   "display_name": "Python 3 (ipykernel)",
   "language": "python",
   "name": "python3"
  },
  "language_info": {
   "codemirror_mode": {
    "name": "ipython",
    "version": 3
   },
   "file_extension": ".py",
   "mimetype": "text/x-python",
   "name": "python",
   "nbconvert_exporter": "python",
   "pygments_lexer": "ipython3",
   "version": "3.10.4"
  },
  "vscode": {
   "interpreter": {
    "hash": "3785a6bba5f1801a86945c73424b4f1b6385e5f47f9ef3b4f4127c4e549a9af5"
   }
  }
 },
 "nbformat": 4,
 "nbformat_minor": 2
}
